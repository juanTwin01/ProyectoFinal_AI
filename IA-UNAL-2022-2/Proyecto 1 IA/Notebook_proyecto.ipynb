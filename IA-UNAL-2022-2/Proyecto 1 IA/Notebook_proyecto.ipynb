{
  "nbformat": 4,
  "nbformat_minor": 0,
  "metadata": {
    "colab": {
      "provenance": [],
      "toc_visible": true,
      "collapsed_sections": [],
      "include_colab_link": true
    },
    "kernelspec": {
      "name": "python3",
      "display_name": "Python 3"
    },
    "language_info": {
      "name": "python"
    }
  },
  "cells": [
    {
      "cell_type": "markdown",
      "metadata": {
        "id": "view-in-github",
        "colab_type": "text"
      },
      "source": [
        "<a href=\"https://colab.research.google.com/github/Joel-Ostos/IA-UNAL-2022-2/blob/main/Notebook_proyecto.ipynb\" target=\"_parent\"><img src=\"https://colab.research.google.com/assets/colab-badge.svg\" alt=\"Open In Colab\"/></a>"
      ]
    },
    {
      "cell_type": "markdown",
      "source": [
        "#**Algoritmos de busqueda informada y Heuristica**\n",
        "Con la necesidad de encontrar soluciones que no impliquen un gran costo computacional, los algoritmos de busqueda informada utilizan herramientas para encontar soluciones optimas, utilizando una funcion Heuristica que estime que tan cerca se encuentra a su objetivo..\n",
        "\n",
        "##***¿Que es una funcion Heuristica?***\n",
        "\n",
        "* Una funcion que intenta encontrar una mejor medida en un tiempo dado,\n",
        "* Buscan maximizar o minimizar unos aspectos del problema.\n",
        "* Buscan reducir la cantidad de busquedas requerdias para encontrar una solucion.\n",
        "* Limitan la cantidad de busquedas en grandes espacios de estado.\n",
        "\n",
        "* Pueden verse como un Conjunto de reglas que evaluan que se va en una direccion correcta,\n",
        "\n",
        "\n",
        "\n",
        "\"h(n)=El menor costo estimado del camino, del estado del nodo n a el estado objetivo.\"***Def.Tomado de***: \"artificial intelligence modern approach\" \n",
        "\n",
        "\n",
        "***Heuristicas propuestas para solucionar el problema del laberinto***\n",
        "1. Una Heuristica que busque la menor distancia entre los ejes x o columnas en el nodo que me encuentro, a el estado objetivo.\n",
        "¿Como pueden ayudar?: Mi algoritmo estara buscando siempre encontrarse en la columna en la que esta mi estado objetivo.\n",
        "\n",
        "2. Que mi heuristica busque la cantidad de muros cercanos a mi punto p en el recorrido y tome la distancia mas corta para salir.,¿Como pueden ayudar?: Que mi algoritmo evite espacios cerrados o que realice una busqueda insistente, en zonas que no hay salida o si las hay, que tome la direccion mas rapida.\n",
        "\n",
        "\n",
        "\n"
      ],
      "metadata": {
        "id": "dLXJeW3Vts88"
      }
    },
    {
      "cell_type": "markdown",
      "source": [
        "# **Algoritmo de busqueda greedy**\n",
        "\n",
        "El Algoritmo de busqueda greedy o en español conocido como algoritmo gloton o algoritmo voraz, cuando se enfrenta a varias opciones, siempre busca escoger la solucion que parece ser la mejor en ese momento, sin tener en cuenta los siguientes subproblemas.\n",
        "\n",
        "\n",
        "**Estrategia de exploracion:** *Buscar la mejor opcion sin conocer mis futuros  subproblemas, mi algoritmo voraz supone cual es la mejor opcion de camino en el instante en que esta tomando la accion, esto es gracias a mi heuristica*\n",
        "\n",
        "**Representacion de frontera:**  mi algortimo Voraz siempre tendra en la frontera a los posibles estados de mi agente en el punto en el que se encuentra, para luego escoger el que en ese momento, parece ser la mejor opcion, y asi generar mis nuevas ramas hasta dar con mi estado objetivo"
      ],
      "metadata": {
        "id": "9_y4J1Ts6pFn"
      }
    },
    {
      "cell_type": "markdown",
      "source": [
        "#  **Algoritmo de busqueda *A o A estrella** \n",
        "\n",
        "Algoritmo de busqueda estrella,este algoritmo encuentra caminos teniendo en cuenta la menor distancia para llegar a mi estado objetido, despues de haber realizado un analisis de los posibles recorridos para llegar a la meta, este tomara el de menor coste de la solucion.\n",
        "\n",
        "**Estrategia de exploracion:** El algoritmo *A , guarda en dos arreglos mis casillas candidatas  a posibles caminos, estos son: \"openset:Aquellas casillas que son analizadas\" \"Closed set:Casillas ya revisadas\", estan son escogidas por mi funcion f(n) que trabaja con mi funcion Heuristica de *A, donde se busca la menor distancia y coste a mi estado objetivo, despues de haber encontrado mi destino, mi agente tomara las casillas padres (Anteriores), para asi formar el recorrido que se necesita para llegar a la meta* \n",
        "\n",
        "**Representacion de frontera:** La frontera consta de los nodos de elementos que hacen parte de mi \"Open set\", donde se evalua por medio de mi f(n) el menor costo estimado, para luego mirar los hijos de los candidatos, y asi sucesivamente hasta encontrarme con mi estado objetivo.   \n"
      ],
      "metadata": {
        "id": "C_THa8LnAXK5"
      }
    },
    {
      "cell_type": "markdown",
      "source": [
        "#**Heuristica Admisible**\n",
        "\n",
        "\"Una Heuristica admisible es una que nunca sobrestima el costo para alcanzar un logro\".\n",
        "***Def.Tomado de***: \"artificial intelligence modern approach\" \n",
        "\n",
        "Esto es, en otras palabras, que una heuristica admisible no se excedera con el costo **real** de una solucion al problema, esta siempre estimara un valor igual o menor en todos los casos en los que se aplique mi heuristica.\n",
        "\n",
        "\n",
        "\n",
        "\n",
        "##**Si la función heurística utilizada por A* es admisible, entonces A* es admisible.**\n",
        "\n",
        "***Prueba***. Sea h(n) mi funcion heuristica admisible utilizada por *A, con esto es claro afirmar que por definicion de heuristica admisible: \n",
        "\n",
        "h(n)=\"El menor costo estimado del camino, del estado del nodo n a mi objetivo, sin que este sobrestime el costo\", \n",
        "\n",
        "por lo tanto siendo: \n",
        "\n",
        "h´(n)=\"Costo real del camino, del estado del nodo n a  mi objetivo\", \n",
        "\n",
        "podemos afirmar que h(n)<= h´(n) para todo n.\n",
        "\n",
        "Por definicion de *A se tiene que,\n",
        "\n",
        "F(n)=\" costo estimado del mejor camino que continúa desde n hasta un objetivo\" \n",
        "\n",
        "que esta dado por F(n)=g(n)+h(n) donde \n",
        "\n",
        "g(n)=\" es el costo que se ha tomado de mi punto inicial hasta mi nodo n\", y sea  \n",
        "\n",
        "F´(n)=\"costo real del mejor camino que continúa desde n hasta un objetivo\",\n",
        "\n",
        "que esta dado por F´(n)=g(n)+h´(n) , (es claro ver que g(n) hace parte de la suma porque  por su definicion g(n) no es un valor estimado )\n",
        "\n",
        "\n",
        "Por lo tanto podemos concluir que:\n",
        "\n",
        "h(n)<=h´(n)   Por definicion de heuristica admisible\n",
        "\n",
        "\n",
        "g(n)+h(n)<=g(n)+h´(n)  Por propiedad de g(n)\n",
        "\n",
        "F(n)<=F´(n) por definicion de F(n),F´(n)\n",
        "\n",
        "Quedando mostrado que mi algoritmo A estrella tambien es admisible.\n",
        "\n",
        "\n"
      ],
      "metadata": {
        "id": "P7nIa_Lp39ZT"
      }
    },
    {
      "cell_type": "markdown",
      "source": [
        "# **Heuristica Consistente**\n",
        "\"Una heuristica h(n) es consistente si para cada nodo n y cada sucesor n´ generado por una accion a, tenemos que:\n",
        "\n",
        "h(n)=< c(n,a,n´)+h(n´) donde c son la suma de los costos \"\n",
        "***Def.Tomado de***: \"Artificial Intelligence modern approach\" \n",
        "\n",
        "Con esto nos referimos que cuando una heuristica es consistente, se tiene que, el menor costo estimado de cualquiera de mis nodos hasta mi objetivo, sera siempre menor o igual, al cost que se necesita de mi nodo hasta el sucesor de mi nodo, junto al menor costo estimado que se necesita de mi nodo sucesor a el estado objetivo, en otras palabras, que se esta dando la monotonia entre las heuristicas evauladas en los sucesores de mis nodos.\n",
        "\n",
        "## **Heuristica admisible pero no consistente**\n",
        "\n",
        "Sean mis nodos A,B,C relacionados de tal forma: A--(c=1)-->B--(c=3)--->C\n",
        "\n",
        "Y mis heuristicas ordenadas con respecto a mi costo real :\n",
        "\n",
        "h(A)<=4      h(B)<=3    h(C)=0\n",
        "\n",
        "donde h(A)=3   h(B)=1   h(C)=0, siendo por definicion una heuristica admisible, puesto que no sobrepasa el costo.\n",
        "\n",
        "pero se tiene que \n",
        "\n",
        "h(A)>C(A,B)+h(B)\n",
        "\n",
        "3>1+1\n",
        "\n",
        "Por lo tanto es admisible, pero no es consistente.\n",
        "\n",
        "\n",
        "## **Prueba del resultado de Dechter y Pearl**\n",
        "\n",
        "***Enunciado*** A_estrella, con una heurística consistente, es óptimamente\n",
        "eficiente con respecto a todos los algoritmos de búsqueda similares a A* admisibles en\n",
        "todos los problemas de búsqueda ′′no patológicos′′.\n",
        "\n",
        "***Prueba***. 1)En caso de que las heuristicas de mis algoritmos alternativos sean consistentes --> admisibles, es consecuente afirmar que los conjuntos de nodos expandidos por ambos elementos seran iguales.\n",
        "\n",
        "2)En caso de que las Heuristicas de mis algoritmos alternativos sean admisibles pero no consistentes, podemos afirmar que para mi algoritmo alternativo A´ no consitente, se tiene que existe un n tal que h(n)>=C(n,S(n))+h(S(n))  donde S(n) es el nodo hijo de mi nodo n, dicha existencia puede que en Mi algoritmo A´ se den mas nodos, que en mi algoritmo consistente\n",
        "\n",
        "Por lo tanto A* consistente es optimamente eficiente."
      ],
      "metadata": {
        "id": "HI_yNwdEN4WP"
      }
    }
  ]
}